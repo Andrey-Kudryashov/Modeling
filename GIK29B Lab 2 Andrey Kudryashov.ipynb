{
 "cells": [
  {
   "cell_type": "markdown",
   "metadata": {},
   "source": [
    "<h1>Miles Converter </h1>"
   ]
  },
  {
   "cell_type": "code",
   "execution_count": 4,
   "metadata": {},
   "outputs": [
    {
     "name": "stdout",
     "output_type": "stream",
     "text": [
      "PLease etnter the distance: 29\n",
      "29.0 miles is 46.67 in kilometers\n"
     ]
    }
   ],
   "source": [
    "# We create 'distance' variable to store dictance in miles\n",
    "distance = float(input('PLease etnter the distance: '))\n",
    "# Then we convert in to kilometers and display for a user\n",
    "print(f'{distance} miles is {round(distance/0.6214, 2)} in kilometers')"
   ]
  },
  {
   "cell_type": "markdown",
   "metadata": {},
   "source": [
    "<h1>Property Tax</h1>"
   ]
  },
  {
   "cell_type": "code",
   "execution_count": 10,
   "metadata": {},
   "outputs": [
    {
     "name": "stdout",
     "output_type": "stream",
     "text": [
      "Enter the actual value of your property: 129999\n",
      "There is your assessment value 77999.4 and 561.6 property tax\n"
     ]
    }
   ],
   "source": [
    "# We store actual value in a variable and then display calculated value and taxes\n",
    "actual_value = float(input('Enter the actual value of your property: '))\n",
    "print(f'There is your assessment value {0.6*actual_value} and {round(0.6*actual_value/100*0.72, 2)} property tax')"
   ]
  },
  {
   "cell_type": "markdown",
   "metadata": {},
   "source": [
    "<h1>Maximum of Two Values </h1>"
   ]
  },
  {
   "cell_type": "code",
   "execution_count": 13,
   "metadata": {},
   "outputs": [
    {
     "name": "stdout",
     "output_type": "stream",
     "text": [
      "First number: 2\n",
      "Second number: 1234567890\n",
      "1234567890 won!\n"
     ]
    }
   ],
   "source": [
    "# We create a little assisting fucntion to assess entered numbers\n",
    "def my_max(a, b):\n",
    "    return a if a>b else b\n",
    "\n",
    "\n",
    "# And now we are working on our routine - ask for integers, display the biggest\n",
    "print(f\"{my_max(int(input('First number: ')), int(input('Second number: ')))} won!\")"
   ]
  },
  {
   "cell_type": "markdown",
   "metadata": {},
   "source": [
    "<h1>Test Average and Grade </h1>"
   ]
  },
  {
   "cell_type": "code",
   "execution_count": 25,
   "metadata": {},
   "outputs": [
    {
     "name": "stdout",
     "output_type": "stream",
     "text": [
      "We gonna ask you for your scores, five in total, one by one\n",
      "Enter the score please: 54\n",
      "Enter the score please: 76\n",
      "Enter the score please: 12\n",
      "Enter the score please: 1\n",
      "Enter the score please: 2\n"
     ]
    },
    {
     "data": {
      "text/plain": [
       "'F'"
      ]
     },
     "execution_count": 25,
     "metadata": {},
     "output_type": "execute_result"
    }
   ],
   "source": [
    "# Assisting function for calculating the average score\n",
    "def calc_average(list_of_scores):\n",
    "    return sum(list_of_scores)/len(list_of_scores)\n",
    "\n",
    "\n",
    "# Assisting function for mapping\n",
    "def determine_grade(score):\n",
    "    if score < 60:\n",
    "        return 'F'\n",
    "    elif score in range(60, 70):\n",
    "        return 'D'\n",
    "    elif score in range(70, 80):\n",
    "        return 'C'\n",
    "    elif score in range(80, 90):\n",
    "        return 'B'\n",
    "    elif score in range(90, 101):\n",
    "        return 'A'\n",
    "    else:\n",
    "        print(\"You're either too good or too bad for this system, mate\")\n",
    "    \n",
    "print('We gonna ask you for your scores, five in total, one by one')\n",
    "list_of_scores = [float(input('Enter the score please: ')) for i in range(5)]\n",
    "determine_grade(calc_average(list_of_scores))"
   ]
  }
 ],
 "metadata": {
  "kernelspec": {
   "display_name": "Python 3",
   "language": "python",
   "name": "python3"
  },
  "language_info": {
   "codemirror_mode": {
    "name": "ipython",
    "version": 3
   },
   "file_extension": ".py",
   "mimetype": "text/x-python",
   "name": "python",
   "nbconvert_exporter": "python",
   "pygments_lexer": "ipython3",
   "version": "3.6.7"
  }
 },
 "nbformat": 4,
 "nbformat_minor": 2
}
