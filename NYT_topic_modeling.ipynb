{
 "cells": [
  {
   "cell_type": "markdown",
   "metadata": {},
   "source": [
    "<h3>Data</h3>"
   ]
  },
  {
   "cell_type": "markdown",
   "metadata": {},
   "source": [
    "https://www.kaggle.com/nzalake52/new-york-times-articles"
   ]
  },
  {
   "cell_type": "markdown",
   "metadata": {},
   "source": [
    "<h3>Dependencies and dictionaries</h3>"
   ]
  },
  {
   "cell_type": "code",
   "execution_count": 24,
   "metadata": {},
   "outputs": [
    {
     "name": "stdout",
     "output_type": "stream",
     "text": [
      "[nltk_data] Downloading package wordnet to\n",
      "[nltk_data]     C:\\Users\\andre\\AppData\\Roaming\\nltk_data...\n",
      "[nltk_data]   Package wordnet is already up-to-date!\n",
      "[nltk_data] Downloading package stopwords to\n",
      "[nltk_data]     C:\\Users\\andre\\AppData\\Roaming\\nltk_data...\n",
      "[nltk_data]   Package stopwords is already up-to-date!\n"
     ]
    }
   ],
   "source": [
    "import random\n",
    "import pickle\n",
    "import spacy\n",
    "spacy.load('en_core_web_sm')\n",
    "from spacy.lang.en import English\n",
    "parser = English()\n",
    "import nltk\n",
    "nltk.download('wordnet')\n",
    "nltk.download('stopwords')\n",
    "en_stop = set(nltk.corpus.stopwords.words('english'))\n",
    "from nltk.corpus import wordnet as wn\n",
    "from nltk.stem.wordnet import WordNetLemmatizer\n",
    "import gensim\n",
    "from gensim import corpora"
   ]
  },
  {
   "cell_type": "markdown",
   "metadata": {},
   "source": [
    "<h3>Helper functions</h3>"
   ]
  },
  {
   "cell_type": "code",
   "execution_count": 37,
   "metadata": {},
   "outputs": [],
   "source": [
    "#tokenizer\n",
    "def tokenize(text):\n",
    "    lda_tokens = []\n",
    "    tokens = parser(text)\n",
    "    for token in tokens:\n",
    "        if token.orth_.isspace():\n",
    "            continue\n",
    "        elif token.like_url:\n",
    "            lda_tokens.append('URL')\n",
    "        elif token.orth_.startswith('@'):\n",
    "            lda_tokens.append('SCREEN_NAME')\n",
    "        else:\n",
    "            lda_tokens.append(token.lower_)\n",
    "    return lda_tokens\n",
    "\n",
    "#get lemma\n",
    "def lemmatizer(word):\n",
    "    lemma = wn.morphy(word)\n",
    "    if lemma is None:\n",
    "        return word\n",
    "    else:\n",
    "        return lemma\n",
    "\n",
    "#preprocesing for lda\n",
    "def pre_lda(text):\n",
    "    tokens = tokenize(text)\n",
    "    tokens = [token for token in tokens if len(token) > 4]\n",
    "    tokens = [token for token in tokens if token not in en_stop]\n",
    "    tokens = [lemmatizer(token) for token in tokens]\n",
    "    return tokens"
   ]
  },
  {
   "cell_type": "markdown",
   "metadata": {},
   "source": [
    "<h3>Creating a dictionary lda </h3>"
   ]
  },
  {
   "cell_type": "code",
   "execution_count": 58,
   "metadata": {},
   "outputs": [],
   "source": [
    "text_data = []\n",
    "with open('NYT.txt', encoding='utf-8') as f:\n",
    "    for line in f:\n",
    "        tokens = pre_lda(line)\n",
    "        if random.random() > .99:\n",
    "            text_data.append(tokens)\n",
    "            \n",
    "#create a dictionary\n",
    "dictionary = corpora.Dictionary(text_data)\n",
    "#convert to bag_of_words\n",
    "corpus = [dictionary.doc2bow(text) for text in text_data]\n",
    "#save it\n",
    "pickle.dump(corpus, open('corpus.pkl', 'wb'))\n",
    "dictionary.save('dictionary.gensim')"
   ]
  },
  {
   "cell_type": "markdown",
   "metadata": {},
   "source": [
    "<h3>Topic modeling with lda on Gensim</h3>"
   ]
  },
  {
   "cell_type": "code",
   "execution_count": 59,
   "metadata": {},
   "outputs": [
    {
     "name": "stdout",
     "output_type": "stream",
     "text": [
      "(0, '0.004*\"state\" + 0.004*\"trump\" + 0.004*\"people\" + 0.004*\"company\"')\n",
      "(1, '0.006*\"school\" + 0.005*\"include\" + 0.004*\"company\" + 0.004*\"million\"')\n",
      "(2, '0.010*\"would\" + 0.004*\"still\" + 0.004*\"first\" + 0.004*\"report\"')\n",
      "(3, '0.006*\"trump\" + 0.006*\"state\" + 0.005*\"million\" + 0.004*\"would\"')\n",
      "(4, '0.007*\"state\" + 0.006*\"school\" + 0.005*\"would\" + 0.004*\"american\"')\n",
      "(5, '0.004*\"first\" + 0.003*\"country\" + 0.003*\"building\" + 0.003*\"include\"')\n",
      "(6, '0.005*\"years\" + 0.004*\"include\" + 0.004*\"state\" + 0.004*\"could\"')\n",
      "(7, '0.006*\"could\" + 0.004*\"first\" + 0.004*\"still\" + 0.003*\"going\"')\n",
      "(8, '0.006*\"would\" + 0.006*\"trump\" + 0.005*\"state\" + 0.004*\"woman\"')\n",
      "(9, '0.006*\"would\" + 0.004*\"could\" + 0.004*\"percent\" + 0.004*\"state\"')\n"
     ]
    }
   ],
   "source": [
    "ldamodel = gensim.models.ldamodel.LdaModel(corpus, num_topics=10, id2word=dictionary, passes=15)\n",
    "ldamodel.save('model5.gensim')\n",
    "topics = ldamodel.print_topics(num_words=4)\n",
    "for topic in topics:\n",
    "    print(topic)"
   ]
  },
  {
   "cell_type": "code",
   "execution_count": 61,
   "metadata": {},
   "outputs": [
    {
     "name": "stdout",
     "output_type": "stream",
     "text": [
      "[(162, 1), (361, 1), (425, 1), (644, 1), (657, 1), (692, 1), (729, 1), (819, 1), (853, 1), (990, 1), (1417, 1), (1815, 1), (3116, 1), (3687, 1), (3828, 1)]\n",
      "[(0, 0.2585358), (5, 0.5261629), (7, 0.17154017)]\n"
     ]
    }
   ],
   "source": [
    "test_text = \"\"\"\n",
    "            Emmanuel Macron suggests building its own army to protect Europe against the U.S., China and Russia. \n",
    "            But it was Germany in World Wars One & Two - How did that work out for France?\n",
    "            They were starting to learn German in Paris before the U.S. came along. Pay for NATO or not!\n",
    "            \"\"\"\n",
    "test_text = pre_lda(test_text)\n",
    "test_bow = dictionary.doc2bow(test_text)\n",
    "print(test_bow)\n",
    "print(ldamodel.get_document_topics(test_bow))"
   ]
  }
 ],
 "metadata": {
  "kernelspec": {
   "display_name": "Python 3",
   "language": "python",
   "name": "python3"
  },
  "language_info": {
   "codemirror_mode": {
    "name": "ipython",
    "version": 3
   },
   "file_extension": ".py",
   "mimetype": "text/x-python",
   "name": "python",
   "nbconvert_exporter": "python",
   "pygments_lexer": "ipython3",
   "version": "3.6.7"
  }
 },
 "nbformat": 4,
 "nbformat_minor": 2
}
